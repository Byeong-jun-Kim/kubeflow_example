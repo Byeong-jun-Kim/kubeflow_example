{
 "metadata": {
  "language_info": {
   "codemirror_mode": {
    "name": "ipython",
    "version": 3
   },
   "file_extension": ".py",
   "mimetype": "text/x-python",
   "name": "python",
   "nbconvert_exporter": "python",
   "pygments_lexer": "ipython3",
   "version": "3.8.8"
  },
  "orig_nbformat": 2,
  "kernelspec": {
   "name": "python3",
   "display_name": "Python 3.8.8 64-bit ('conda': virtualenv)",
   "metadata": {
    "interpreter": {
     "hash": "98b0a9b7b4eaaa670588a142fd0a9b87eaafe866f1db4228be72b4211d12040f"
    }
   }
  }
 },
 "nbformat": 4,
 "nbformat_minor": 2,
 "cells": [
  {
   "cell_type": "code",
   "execution_count": 6,
   "metadata": {},
   "outputs": [
    {
     "output_type": "display_data",
     "data": {
      "text/plain": "<IPython.core.display.HTML object>",
      "text/html": "Experiment link <a href=\"/pipeline/#/experiments/details/7f823ca9-c269-4c61-b865-77bb6bd2bdea\" target=\"_blank\" >here</a>"
     },
     "metadata": {}
    },
    {
     "output_type": "display_data",
     "data": {
      "text/plain": "<IPython.core.display.HTML object>",
      "text/html": "Run link <a href=\"/pipeline/#/runs/details/8da807a9-3f42-4078-b723-f84cdb06d9d1\" target=\"_blank\" >here</a>"
     },
     "metadata": {}
    }
   ],
   "source": [
    "import kfp\n",
    "import kfp.dsl as dsl\n",
    "import kfp.onprem as onprem\n",
    "import kfp.components as comp\n",
    "    \n",
    "def echo_op(text):\n",
    "    return dsl.ContainerOp(\n",
    "        name='echo',\n",
    "        image='library/bash:4.4.23',\n",
    "        command=['sh', '-c'],\n",
    "        arguments=['echo \"$0\"', text],\n",
    "    )  \n",
    "\n",
    "@dsl.pipeline(\n",
    "    name='FMnistPipeline',\n",
    "    description='mnist '\n",
    ")\n",
    "def fmnist_pipeline(learning_rate, dropout_rate, epoch, act, layer,  \n",
    "                    checkpoint_dir, saved_model_dir, pvc_name, tensorboard_log,\n",
    "                    name, model_version, namespace):\n",
    "  \n",
    "    exit_task = echo_op(\"Done!\")\n",
    "    \n",
    "    with dsl.ExitHandler(exit_task): \n",
    "\n",
    "        kubeflow_pvc = dsl.PipelineVolume(pvc=str(pvc_name))\n",
    "        \n",
    "        fmnist = dsl.ContainerOp(\n",
    "            name='FMnist',\n",
    "            image='kubeflow-registry.default.svc.cluster.local:30000/katib-job:3F6886A4',\n",
    "            command=['python', '/app/fmnist-save-model.py'],\n",
    "            arguments=[\n",
    "                \"--learning_rate\", learning_rate,\n",
    "                \"--dropout_rate\", dropout_rate,\n",
    "                \"--epoch\", epoch,\n",
    "                \"--act\", act,\n",
    "                \"--layer\", layer,\n",
    "                \"--checkpoint_dir\", checkpoint_dir,\n",
    "                \"--saved_model_dir\", saved_model_dir,\n",
    "                \"--model_version\", model_version,\n",
    "                \"--tensorboard_log\", tensorboard_log\n",
    "            ],\n",
    "            pvolumes={\"/pv\": kubeflow_pvc}\n",
    "        )\n",
    "        \n",
    "        kfserving = dsl.ContainerOp(\n",
    "            name='kfserving',\n",
    "            image='kubeflow-registry.default.svc.cluster.local:30000/kfserving:763D141E',\n",
    "            command=['python', '/app/fmnist-kfserving.py'],\n",
    "            arguments=[\n",
    "                \"--namespace\", namespace,\n",
    "                \"--storage_uri\", \"pvc://\" +  str(pvc_name) + \"/saved_model\",\n",
    "                \"--name\", name\n",
    "            ],\n",
    "            pvolumes={\"/pv\": kubeflow_pvc}\n",
    "          )\n",
    "        kfserving.after(fmnist)\n",
    "    \n",
    "\n",
    "arguments = {'learning_rate': '0.0010085',\n",
    "             'dropout_rate': '0.44477',\n",
    "             'epoch' : '5',\n",
    "             'act' : 'tanh',\n",
    "             'layer': '2',\n",
    "             'checkpoint_dir': '/pv/training_checkpoints',\n",
    "             'saved_model_dir':'/pv/saved_model/',\n",
    "             'pvc_name' : 'workspace-vscode-server',\n",
    "             'tensorboard_log': '/pv/log',\n",
    "             'name' : 'kfserving-fmnist',\n",
    "             'model_version' : '0003',\n",
    "             'namespace' : 'kubeflow-user-example-com'\n",
    "            }\n",
    "    \n",
    "if __name__ == '__main__':\n",
    "    kfp.Client().create_run_from_pipeline_func(pipeline_func=fmnist_pipeline, \n",
    "                                               arguments=arguments,\n",
    "                                               namespace='kubeflow-user-example-com')"
   ]
  },
  {
   "cell_type": "code",
   "execution_count": 7,
   "metadata": {},
   "outputs": [
    {
     "output_type": "display_data",
     "data": {
      "text/plain": "<PIL.Image.Image image mode=L size=280x280 at 0x7F04C363CC70>",
      "image/png": "[encoded data removed]"
     },
     "metadata": {}
    }
   ],
   "source": [
    "import numpy as np\n",
    "from PIL import Image\n",
    "import json\n",
    "\n",
    "im = Image.open('fashion1.png')\n",
    "width, height = im.size\n",
    "im.resize((280,280)).show()\n",
    "\n",
    "pix = np.array(im).flatten()\n",
    "input = { \"instances\": [{ \"flatten_input\": pix.tolist() }] }\n",
    "f = open(\"input.json\", \"w\")\n",
    "f.write(json.dumps(input))\n",
    "f.close()"
   ]
  }
 ]
}